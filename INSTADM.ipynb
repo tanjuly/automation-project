{
 "cells": [
  {
   "cell_type": "code",
   "execution_count": null,
   "id": "d40f4044",
   "metadata": {},
   "outputs": [],
   "source": [
    "from selenium import webdriver\n",
    "from webdriver_manager.chrome import ChromeDriverManager\n",
    "from selenium.webdriver.common.by import By #it is used to specify language or method used to select element.\n",
    "import time\n",
    "from selenium.webdriver.common.keys import Keys \n",
    "driver = webdriver.Chrome(ChromeDriverManager().install())"
   ]
  },
  {
   "cell_type": "code",
   "execution_count": null,
   "id": "91ad4d6e",
   "metadata": {},
   "outputs": [],
   "source": [
    "# username = input('Please enter username : ')\n",
    "# password = input('Please enter password : ')\n",
    "username = '_tanjulyy_'\n",
    "password = '#welcome99'\n",
    "\n",
    "driver.get('https://www.instagram.com')\n",
    "time.sleep(3)\n",
    "username_field = driver.find_element(By.CSS_SELECTOR, 'input[name=\"username\"]')\n",
    "username_field.send_keys(username)\n",
    "time.sleep(5)\n",
    "password_field = driver.find_element(By.CSS_SELECTOR, 'input[name=\"password\"]')\n",
    "password_field.send_keys(password)\n",
    "\n",
    "button = driver.find_element(By.CSS_SELECTOR, 'button[type=\"submit\"]')\n",
    "button.click()\n",
    "\n",
    "time.sleep(10)\n",
    "try:\n",
    "    not_now = driver.find_element(By.XPATH, \"//button[text()='Not Now']\") #it is used to detect text element=not now\n",
    "    not_now.click()\n",
    "    time.sleep(5)\n",
    "except:\n",
    "    pass\n",
    "time.sleep(10)\n",
    "\n",
    "try:\n",
    "    not_now = driver.find_element(By.XPATH, \"//button[text()='Not Now']\")\n",
    "    not_now.click()\n",
    "    time.sleep(5)\n",
    "except:\n",
    "    pass\n",
    "message_data = {'tejuuu_0672': 'Wassup mom',\n",
    "               '_tanviichavannn_':\"Hey tanvi\"}\n",
    "for message_username, message in message_data.items():\n",
    "    driver.get('https://www.instagram.com/direct/new')\n",
    "    time.sleep(5)\n",
    "    username_box = driver.find_element(By.CSS_SELECTOR, 'input[name=\"queryBox\"]')\n",
    "    #cascading style sheet is used to style html,helps to locate element that needs to be styled\n",
    "    username_box.send_keys(message_username)\n",
    "    time.sleep(5)\n",
    "    chat = driver.find_element(By.XPATH, f\"//div[text()='{message_username}']\")\n",
    "    chat.click()\n",
    "\n",
    "    time.sleep(5)\n",
    "    next_button = driver.find_element(By.XPATH, \"//button[@type='button' and div='Next']\")\n",
    "    next_button.click()\n",
    "    time.sleep(7)\n",
    "    text_area = driver.find_element(By.CSS_SELECTOR, 'textarea')\n",
    "    text_area.send_keys(message)\n",
    "    text_area.send_keys(Keys.ENTER)\n",
    "    time.sleep(5)\n",
    "print('messages sent')\n",
    "\n",
    "time.sleep(20)\n",
    "driver.quit()"
   ]
  },
  {
   "cell_type": "code",
   "execution_count": null,
   "id": "de71e483",
   "metadata": {},
   "outputs": [],
   "source": []
  }
 ],
 "metadata": {
  "kernelspec": {
   "display_name": "Python 3 (ipykernel)",
   "language": "python",
   "name": "python3"
  },
  "language_info": {
   "codemirror_mode": {
    "name": "ipython",
    "version": 3
   },
   "file_extension": ".py",
   "mimetype": "text/x-python",
   "name": "python",
   "nbconvert_exporter": "python",
   "pygments_lexer": "ipython3",
   "version": "3.9.12"
  }
 },
 "nbformat": 4,
 "nbformat_minor": 5
}
